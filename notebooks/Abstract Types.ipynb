{
 "metadata": {
  "language": "Julia",
  "name": "",
  "signature": "sha256:d26f92b0d397ea4ca11c3479fe4eda345d95eda32b4ba5f7601a37e900668669"
 },
 "nbformat": 3,
 "nbformat_minor": 0,
 "worksheets": [
  {
   "cells": [
    {
     "cell_type": "code",
     "collapsed": false,
     "input": [
      "function f(x::Number)\n",
      "    println(typeof(x))\n",
      "    x * x\n",
      "end\n",
      "\n",
      "# Define `n`, which is type Int64... which is a subtype of Number\n",
      "n = 12\n",
      "\n",
      "f(n)"
     ],
     "language": "python",
     "metadata": {},
     "outputs": []
    },
    {
     "cell_type": "code",
     "collapsed": false,
     "input": [
      "function g(x::Integer)\n",
      "    println(typeof(x))\n",
      "    x * x\n",
      "end\n",
      "\n",
      "# Define `n`, which is type Float64... which is NOT a subtype of Int\n",
      "m = 12.0\n",
      "\n",
      "g(m)"
     ],
     "language": "python",
     "metadata": {},
     "outputs": []
    },
    {
     "cell_type": "code",
     "collapsed": false,
     "input": [
      "function h(x::Any)\n",
      "    println(typeof(x))\n",
      "    x * x\n",
      "end\n",
      "\n",
      "# OR...\n",
      "# h(x) = x * x\n",
      "\n",
      "# Define `n`, which is type Float64... which is a subtype of Any\n",
      "p = 12.0\n",
      "\n",
      "h(p)"
     ],
     "language": "python",
     "metadata": {},
     "outputs": []
    }
   ],
   "metadata": {}
  }
 ]
}