{
 "cells": [
  {
   "cell_type": "code",
   "execution_count": null,
   "metadata": {
    "collapsed": false
   },
   "outputs": [],
   "source": [
    "function f(x::Number)\n",
    "    println(typeof(x))\n",
    "    x * x\n",
    "end\n",
    "\n",
    "# Define `n`, which is type Int64... which is a subtype of Number\n",
    "n = 12\n",
    "\n",
    "@show f(n)"
   ]
  },
  {
   "cell_type": "code",
   "execution_count": null,
   "metadata": {
    "collapsed": false
   },
   "outputs": [],
   "source": [
    "function g(x::Integer)\n",
    "    println(typeof(x))\n",
    "    x * x\n",
    "end\n",
    "\n",
    "# Define `n`, which is type Float64... which is NOT a subtype of Int\n",
    "m = 12.0\n",
    "\n",
    "@show g(m)"
   ]
  },
  {
   "cell_type": "code",
   "execution_count": null,
   "metadata": {
    "collapsed": false
   },
   "outputs": [],
   "source": [
    "function h(x::Any)\n",
    "    println(typeof(x))\n",
    "    x * x\n",
    "end\n",
    "\n",
    "# OR...\n",
    "# h(x) = x * x\n",
    "\n",
    "# Define `n`, which is type Float64... which is a subtype of Any\n",
    "p = 12.0\n",
    "\n",
    "@show h(p)"
   ]
  }
 ],
 "metadata": {
  "anaconda-cloud": {},
  "kernelspec": {
   "display_name": "Julia 0.5.0",
   "language": "julia",
   "name": "julia-0.5"
  },
  "language_info": {
   "file_extension": ".jl",
   "mimetype": "application/julia",
   "name": "julia",
   "version": "0.5.0"
  }
 },
 "nbformat": 4,
 "nbformat_minor": 0
}
