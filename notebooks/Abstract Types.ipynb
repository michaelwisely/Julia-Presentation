{
 "metadata": {
  "language": "Julia",
  "name": "",
  "signature": "sha256:6ea23c7ad55783542992de1d11e77c28c558f7ac724b57c9d2326923b2504ab2"
 },
 "nbformat": 3,
 "nbformat_minor": 0,
 "worksheets": [
  {
   "cells": [
    {
     "cell_type": "code",
     "collapsed": false,
     "input": [
      "function f(x::Number)\n",
      "    println(typeof(x))\n",
      "    x * x\n",
      "end\n",
      "\n",
      "# Define `n`, which is type Int64... which is a subtype of Number\n",
      "n = 12\n",
      "\n",
      "f(n)"
     ],
     "language": "python",
     "metadata": {},
     "outputs": [
      {
       "output_type": "stream",
       "stream": "stdout",
       "text": [
        "Int64\n"
       ]
      },
      {
       "metadata": {},
       "output_type": "pyout",
       "prompt_number": 1,
       "text": [
        "144"
       ]
      }
     ],
     "prompt_number": 1
    },
    {
     "cell_type": "code",
     "collapsed": false,
     "input": [
      "function g(x::Integer)\n",
      "    println(typeof(x))\n",
      "    x * x\n",
      "end\n",
      "\n",
      "# Define `n`, which is type Float64... which is NOT a subtype of Int\n",
      "m = 12.0\n",
      "\n",
      "g(m)"
     ],
     "language": "python",
     "metadata": {},
     "outputs": [
      {
       "ename": "LoadError",
       "evalue": "`g` has no method matching g(::Float64)\nwhile loading In[2], in expression starting on line 9",
       "output_type": "pyerr",
       "traceback": [
        "`g` has no method matching g(::Float64)\nwhile loading In[2], in expression starting on line 9",
        ""
       ]
      }
     ],
     "prompt_number": 2
    },
    {
     "cell_type": "code",
     "collapsed": false,
     "input": [
      "function h(x::Any)\n",
      "    println(typeof(x))\n",
      "    x * x\n",
      "end\n",
      "\n",
      "# OR...\n",
      "# h(x) = x * x\n",
      "\n",
      "# Define `n`, which is type Float64... which is a subtype of Any\n",
      "p = 12.0\n",
      "\n",
      "h(p)"
     ],
     "language": "python",
     "metadata": {},
     "outputs": [
      {
       "output_type": "stream",
       "stream": "stdout",
       "text": [
        "Float64\n"
       ]
      },
      {
       "metadata": {},
       "output_type": "pyout",
       "prompt_number": 3,
       "text": [
        "144.0"
       ]
      }
     ],
     "prompt_number": 3
    }
   ],
   "metadata": {}
  }
 ]
}