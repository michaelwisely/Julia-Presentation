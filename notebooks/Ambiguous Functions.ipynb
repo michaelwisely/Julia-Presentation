{
 "metadata": {
  "language": "Julia",
  "name": "",
  "signature": "sha256:3bb5de94404153c2be031bb88a0e026530933aa655fc8b940fba0f497b324fda"
 },
 "nbformat": 3,
 "nbformat_minor": 0,
 "worksheets": [
  {
   "cells": [
    {
     "cell_type": "code",
     "collapsed": false,
     "input": [
      "f(x::Number, y::Int) = x * y\n",
      "\n",
      "f(x::Int, y::Number) = x + y"
     ],
     "language": "python",
     "metadata": {},
     "outputs": []
    },
    {
     "cell_type": "code",
     "collapsed": false,
     "input": [
      "f(x::Number, y::Int) = x / y\n",
      "\n",
      "f(x::Int, y::Int) = x * y\n",
      "\n",
      "f(x::Int, y::Number) = x + y"
     ],
     "language": "python",
     "metadata": {},
     "outputs": []
    },
    {
     "cell_type": "code",
     "collapsed": false,
     "input": [
      "println(f(3.0, 4))\n",
      "println(f(3, 4))\n",
      "println(f(3, 4.0))"
     ],
     "language": "python",
     "metadata": {},
     "outputs": []
    },
    {
     "cell_type": "code",
     "collapsed": false,
     "input": [],
     "language": "python",
     "metadata": {},
     "outputs": []
    }
   ],
   "metadata": {}
  }
 ]
}