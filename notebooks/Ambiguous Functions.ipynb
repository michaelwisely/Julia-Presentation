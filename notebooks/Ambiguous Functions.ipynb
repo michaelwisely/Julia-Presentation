{
 "metadata": {
  "language": "Julia",
  "name": "",
  "signature": "sha256:d79aa66b2b2899efba572a797e1fbeb04c03c11a454ec7d726d8765176838815"
 },
 "nbformat": 3,
 "nbformat_minor": 0,
 "worksheets": [
  {
   "cells": [
    {
     "cell_type": "code",
     "collapsed": false,
     "input": [
      "f(x::Number, y::Int) = x * y\n",
      "\n",
      "f(x::Int, y::Number) = x + y"
     ],
     "language": "python",
     "metadata": {},
     "outputs": []
    },
    {
     "cell_type": "code",
     "collapsed": false,
     "input": [
      "f(x::Number, y::Int) = x / y\n",
      "\n",
      "f(x::Int, y::Int) = x * y\n",
      "\n",
      "f(x::Int, y::Number) = x + y"
     ],
     "language": "python",
     "metadata": {},
     "outputs": []
    },
    {
     "cell_type": "code",
     "collapsed": false,
     "input": [
      "@show f(3.0, 4)\n",
      "@show f(3, 4)\n",
      "@show f(3, 4.0)"
     ],
     "language": "python",
     "metadata": {},
     "outputs": []
    },
    {
     "cell_type": "code",
     "collapsed": false,
     "input": [],
     "language": "python",
     "metadata": {},
     "outputs": []
    }
   ],
   "metadata": {}
  }
 ]
}