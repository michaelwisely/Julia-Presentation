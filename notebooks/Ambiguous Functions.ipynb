{
 "metadata": {
  "language": "Julia",
  "name": "",
  "signature": "sha256:abd33c567db27a51c6b5d7f883ff5942881c249ca64f9d8ce521518898c22b61"
 },
 "nbformat": 3,
 "nbformat_minor": 0,
 "worksheets": [
  {
   "cells": [
    {
     "cell_type": "code",
     "collapsed": false,
     "input": [
      "f(x::Number, y::Int) = x * y\n",
      "\n",
      "f(x::Int, y::Number) = x + y"
     ],
     "language": "python",
     "metadata": {},
     "outputs": [
      {
       "output_type": "stream",
       "stream": "stderr",
       "text": [
        "Warning: New definition \n",
        "    f(Int64"
       ]
      },
      {
       "output_type": "stream",
       "stream": "stderr",
       "text": [
        ",Number) at In[1]:3\n",
        "is ambiguous with: \n",
        "    f(Number,Int64) at In[1]:1.\n",
        "To fix, define \n",
        "    f(Int64,Int64)\n",
        "before the new definition.\n"
       ]
      },
      {
       "metadata": {},
       "output_type": "pyout",
       "prompt_number": 1,
       "text": [
        "f (generic function with 2 methods)"
       ]
      }
     ],
     "prompt_number": 1
    },
    {
     "cell_type": "code",
     "collapsed": false,
     "input": [
      "f(x::Number, y::Int) = x * y\n",
      "\n",
      "f(x::Int, y::Int) = x * y\n",
      "\n",
      "f(x::Int, y::Number) = x + y"
     ],
     "language": "python",
     "metadata": {},
     "outputs": [
      {
       "metadata": {},
       "output_type": "pyout",
       "prompt_number": 2,
       "text": [
        "f (generic function with 3 methods)"
       ]
      }
     ],
     "prompt_number": 2
    },
    {
     "cell_type": "code",
     "collapsed": false,
     "input": [
      "println(f(3.0, 4))\n",
      "println(f(3, 4))\n",
      "println(f)"
     ],
     "language": "python",
     "metadata": {},
     "outputs": [
      {
       "metadata": {},
       "output_type": "pyout",
       "prompt_number": 3,
       "text": [
        "12"
       ]
      }
     ],
     "prompt_number": 3
    },
    {
     "cell_type": "code",
     "collapsed": false,
     "input": [],
     "language": "python",
     "metadata": {},
     "outputs": []
    }
   ],
   "metadata": {}
  }
 ]
}