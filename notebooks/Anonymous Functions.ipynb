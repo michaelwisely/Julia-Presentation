{
 "metadata": {
  "language": "Julia",
  "name": "",
  "signature": "sha256:10d1e8d1b9834c24724d35950a9f4ddcace2afcf2bc754c9c92754d19e37eaf5"
 },
 "nbformat": 3,
 "nbformat_minor": 0,
 "worksheets": [
  {
   "cells": [
    {
     "cell_type": "code",
     "collapsed": false,
     "input": [
      "lst = [1, 2, 3, 4]                                                                                                                                                       \n",
      "squared = map(x -> x * x, lst)\n",
      "\n",
      "println(lst)\n",
      "println(squared)"
     ],
     "language": "python",
     "metadata": {},
     "outputs": []
    },
    {
     "cell_type": "code",
     "collapsed": false,
     "input": [],
     "language": "python",
     "metadata": {},
     "outputs": []
    }
   ],
   "metadata": {}
  }
 ]
}