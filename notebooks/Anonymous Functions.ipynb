{
 "metadata": {
  "language": "Julia",
  "name": "",
  "signature": "sha256:e7adbcbaec47ea2401b9e4f42683e9c2d60d1f81a5c049184fc1176dcfdce8b4"
 },
 "nbformat": 3,
 "nbformat_minor": 0,
 "worksheets": [
  {
   "cells": [
    {
     "cell_type": "code",
     "collapsed": false,
     "input": [
      "lst = [1, 2, 3, 4]                                                                                                                                                       \n",
      "squared = map(x -> x * x, lst)\n",
      "\n",
      "@show lst\n",
      "@show squared"
     ],
     "language": "python",
     "metadata": {},
     "outputs": []
    }
   ],
   "metadata": {}
  }
 ]
}