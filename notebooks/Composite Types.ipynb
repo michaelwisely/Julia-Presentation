{
 "cells": [
  {
   "cell_type": "code",
   "execution_count": null,
   "metadata": {
    "collapsed": false
   },
   "outputs": [],
   "source": [
    "type MyComplex\n",
    "    real::Float64\n",
    "    imag::Float64\n",
    "\n",
    "    MyComplex(r, i) = new(r, i)                                                                                                                                                      \n",
    "end\n",
    "\n",
    "m = MyComplex(4, 5)"
   ]
  },
  {
   "cell_type": "code",
   "execution_count": null,
   "metadata": {
    "collapsed": false
   },
   "outputs": [],
   "source": [
    "type MyOrderedType\n",
    "    a\n",
    "    b\n",
    "\n",
    "    function MyOrderedType(a, b)\n",
    "        if a > b\n",
    "            error(\"Arguments out of order\")\n",
    "        end\n",
    "        new(a, b)                                                                                                                                                      \n",
    "    end\n",
    "end\n",
    "\n",
    "@show MyOrderedType(4, 5)\n",
    "\n",
    "nope = MyOrderedType(5, 4)"
   ]
  },
  {
   "cell_type": "code",
   "execution_count": null,
   "metadata": {
    "collapsed": false
   },
   "outputs": [],
   "source": []
  }
 ],
 "metadata": {
  "anaconda-cloud": {},
  "kernelspec": {
   "display_name": "Julia 0.5.0",
   "language": "julia",
   "name": "julia-0.5"
  },
  "language_info": {
   "file_extension": ".jl",
   "mimetype": "application/julia",
   "name": "julia",
   "version": "0.5.0"
  }
 },
 "nbformat": 4,
 "nbformat_minor": 0
}
