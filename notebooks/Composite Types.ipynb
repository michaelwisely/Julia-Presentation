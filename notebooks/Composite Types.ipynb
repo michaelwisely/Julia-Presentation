{
 "metadata": {
  "language": "Julia",
  "name": "",
  "signature": "sha256:1e70a331daafaf55d3e0f5890201ae1bd10c7a2b686e3873ef8226c6d7c75e7d"
 },
 "nbformat": 3,
 "nbformat_minor": 0,
 "worksheets": [
  {
   "cells": [
    {
     "cell_type": "code",
     "collapsed": false,
     "input": [
      "type MyComplex\n",
      "    real::Float64\n",
      "    imag::Float64\n",
      "\n",
      "    MyComplex(r, i) = new(r, i)                                                                                                                                                      \n",
      "end\n",
      "\n",
      "m = MyComplex(4, 5)"
     ],
     "language": "python",
     "metadata": {},
     "outputs": []
    },
    {
     "cell_type": "code",
     "collapsed": false,
     "input": [
      "type MyOrderedType\n",
      "    a\n",
      "    b\n",
      "\n",
      "    function MyOrderedType(a, b)\n",
      "        if a > b\n",
      "            error(\"Arguments out of order\")\n",
      "        end\n",
      "        new(a, b)                                                                                                                                                      \n",
      "    end\n",
      "end\n",
      "\n",
      "println(MyOrderedType(4, 5))\n",
      "nope = MyOrderedType(5, 4)"
     ],
     "language": "python",
     "metadata": {},
     "outputs": []
    },
    {
     "cell_type": "code",
     "collapsed": false,
     "input": [],
     "language": "python",
     "metadata": {},
     "outputs": []
    }
   ],
   "metadata": {}
  }
 ]
}