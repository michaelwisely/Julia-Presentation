{
 "metadata": {
  "language": "Julia",
  "name": "",
  "signature": "sha256:158167d45c10f7d8dcf4f624900254c8eac46e318c05070b1aedb2448444beeb"
 },
 "nbformat": 3,
 "nbformat_minor": 0,
 "worksheets": [
  {
   "cells": [
    {
     "cell_type": "code",
     "collapsed": false,
     "input": [
      "type MyComplex\n",
      "    real::Float64\n",
      "    imag::Float64\n",
      "\n",
      "    MyComplex(r, i) = new(r, i)                                                                                                                                                      \n",
      "end\n",
      "\n",
      "m = MyComplex(4, 5)"
     ],
     "language": "python",
     "metadata": {},
     "outputs": []
    },
    {
     "cell_type": "code",
     "collapsed": false,
     "input": [
      "type MyOrderedType\n",
      "    a\n",
      "    b\n",
      "\n",
      "    function MyOrderedType(a, b)\n",
      "        if a > b\n",
      "            error(\"Arguments out of order\")\n",
      "        end\n",
      "        new(a, b)                                                                                                                                                      \n",
      "    end\n",
      "end\n",
      "\n",
      "@show MyOrderedType(4, 5)\n",
      "\n",
      "nope = MyOrderedType(5, 4)"
     ],
     "language": "python",
     "metadata": {},
     "outputs": []
    },
    {
     "cell_type": "code",
     "collapsed": false,
     "input": [],
     "language": "python",
     "metadata": {},
     "outputs": []
    }
   ],
   "metadata": {}
  }
 ]
}