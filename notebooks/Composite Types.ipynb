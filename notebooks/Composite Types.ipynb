{
 "metadata": {
  "language": "Julia",
  "name": "",
  "signature": "sha256:3f24bf9c4e5ae6d9ee412e6cf9facea5868eaf0222e5a99255a9847e7102f807"
 },
 "nbformat": 3,
 "nbformat_minor": 0,
 "worksheets": [
  {
   "cells": [
    {
     "cell_type": "code",
     "collapsed": false,
     "input": [
      "type MyComplex\n",
      "    real::Float64\n",
      "    imag::Float64\n",
      "\n",
      "    MyComplex(r, i) = new(r, i)                                                                                                                                                      \n",
      "end\n",
      "\n",
      "m = MyComplex(4, 5)"
     ],
     "language": "python",
     "metadata": {},
     "outputs": [],
     "prompt_number": 1
    },
    {
     "cell_type": "code",
     "collapsed": false,
     "input": [
      "type MyOrderedType\n",
      "    a\n",
      "    b\n",
      "\n",
      "    function MyOrderedType(a, b)\n",
      "        if a > b\n",
      "            error(\"Arguments out of order\")\n",
      "        end\n",
      "        new(a, b)                                                                                                                                                      \n",
      "    end\n",
      "end\n",
      "\n",
      "println(MyOrderedType(4, 5))\n",
      "nope = MyOrderedType(5, 4)"
     ],
     "language": "python",
     "metadata": {},
     "outputs": [
      {
       "output_type": "stream",
       "stream": "stdout",
       "text": [
        "MyOrderedType("
       ]
      },
      {
       "output_type": "stream",
       "stream": "stdout",
       "text": [
        "4,5)\n"
       ]
      },
      {
       "ename": "LoadError",
       "evalue": "Arguments out of order\nwhile loading In[5], in expression starting on line 14",
       "output_type": "pyerr",
       "traceback": [
        "Arguments out of order\nwhile loading In[5], in expression starting on line 14",
        ""
       ]
      }
     ],
     "prompt_number": 5
    },
    {
     "cell_type": "code",
     "collapsed": false,
     "input": [],
     "language": "python",
     "metadata": {},
     "outputs": []
    }
   ],
   "metadata": {}
  }
 ]
}