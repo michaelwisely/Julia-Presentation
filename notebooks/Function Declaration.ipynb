{
 "metadata": {
  "language": "Julia",
  "name": "",
  "signature": "sha256:307f1ea7e6b23d543ad80978ee3602bfd620a8627ffa0c8312fa92f9def3c15b"
 },
 "nbformat": 3,
 "nbformat_minor": 0,
 "worksheets": [
  {
   "cells": [
    {
     "cell_type": "code",
     "collapsed": false,
     "input": [
      "# Matlab-ish\n",
      "function f(x, y)\n",
      "    return x * y\n",
      "end\n",
      "\n",
      "# Implicit returns\n",
      "function g(x, y)\n",
      "    x * y\n",
      "end\n",
      "\n",
      "# Explicit types\n",
      "function h(x::Number, y::Number)\n",
      "    x * y\n",
      "end\n",
      "\n",
      "# Explicit types, alternative syntax\n",
      "i(x::Number, y::Number) = x * y\n",
      "\n",
      "# Try it out!\n",
      "println(f(5, 2))\n",
      "println(g(5, 2))\n",
      "println(h(5, 2))\n",
      "println(i(5, 2))\n",
      "\n",
      "# Type promotion!\n",
      "println(i(5, 2.0))"
     ],
     "language": "python",
     "metadata": {},
     "outputs": [
      {
       "output_type": "stream",
       "stream": "stdout",
       "text": [
        "10\n"
       ]
      },
      {
       "output_type": "stream",
       "stream": "stdout",
       "text": [
        "10\n",
        "10\n",
        "10\n",
        "10.0\n"
       ]
      }
     ],
     "prompt_number": 11
    },
    {
     "cell_type": "code",
     "collapsed": false,
     "input": [
      "# Parametric types\n",
      "j{T}(x::T, y::T) = x * y\n",
      "\n",
      "# Yep! They're the same type\n",
      "println(j(5, 5))\n",
      "\n",
      "# Nope. Different Types.\n",
      "j(5.0, 5)"
     ],
     "language": "python",
     "metadata": {},
     "outputs": [
      {
       "output_type": "stream",
       "stream": "stdout",
       "text": [
        "25\n"
       ]
      },
      {
       "ename": "LoadError",
       "evalue": "`j` has no method matching j(::Float64, ::Int64)\nwhile loading In[12], in expression starting on line 8",
       "output_type": "pyerr",
       "traceback": [
        "`j` has no method matching j(::Float64, ::Int64)\nwhile loading In[12], in expression starting on line 8",
        ""
       ]
      }
     ],
     "prompt_number": 12
    },
    {
     "cell_type": "code",
     "collapsed": false,
     "input": [],
     "language": "python",
     "metadata": {},
     "outputs": []
    }
   ],
   "metadata": {}
  }
 ]
}