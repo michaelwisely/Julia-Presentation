{
 "metadata": {
  "language": "Julia",
  "name": "",
  "signature": "sha256:b22e08726b7765fee4564bcafcf4131255a8974b5ef6b3843ccc05170f2fa191"
 },
 "nbformat": 3,
 "nbformat_minor": 0,
 "worksheets": [
  {
   "cells": [
    {
     "cell_type": "code",
     "collapsed": false,
     "input": [
      "# Matlab-ish\n",
      "function f(x, y)\n",
      "    return x * y\n",
      "end\n",
      "\n",
      "# Implicit returns\n",
      "function g(x, y)\n",
      "    x * y\n",
      "end\n",
      "\n",
      "# Explicit types\n",
      "function h(x::Number, y::Number)\n",
      "    x * y\n",
      "end\n",
      "\n",
      "# Explicit types, alternative syntax\n",
      "i(x::Number, y::Number) = x * y\n",
      "\n",
      "# Try it out!\n",
      "@show f(5, 2)\n",
      "@show g(5, 2)\n",
      "@show h(5, 2)\n",
      "@show i(5, 2)\n",
      "\n",
      "# Type promotion!\n",
      "@show i(5, 2.0)"
     ],
     "language": "python",
     "metadata": {},
     "outputs": []
    },
    {
     "cell_type": "code",
     "collapsed": false,
     "input": [
      "# Parametric types\n",
      "j{T}(x::T, y::T) = x * y\n",
      "\n",
      "# Yep! They're the same type\n",
      "@show j(5, 5)\n",
      "\n",
      "# Nope. Different Types.\n",
      "j(5.0, 5)"
     ],
     "language": "python",
     "metadata": {},
     "outputs": []
    },
    {
     "cell_type": "code",
     "collapsed": false,
     "input": [],
     "language": "python",
     "metadata": {},
     "outputs": []
    }
   ],
   "metadata": {}
  }
 ]
}