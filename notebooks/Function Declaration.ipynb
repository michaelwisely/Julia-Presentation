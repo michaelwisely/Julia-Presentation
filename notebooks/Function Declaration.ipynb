{
 "cells": [
  {
   "cell_type": "code",
   "execution_count": null,
   "metadata": {
    "collapsed": false
   },
   "outputs": [],
   "source": [
    "# Matlab-ish\n",
    "function f(x, y)\n",
    "    return x * y\n",
    "end\n",
    "\n",
    "# Implicit returns\n",
    "function g(x, y)\n",
    "    x * y\n",
    "end\n",
    "\n",
    "# Explicit types\n",
    "function h(x::Number, y::Number)\n",
    "    x * y\n",
    "end\n",
    "\n",
    "# Explicit types, alternative syntax\n",
    "i(x::Number, y::Number) = x * y\n",
    "\n",
    "# Try it out!\n",
    "@show f(5, 2)\n",
    "@show g(5, 2)\n",
    "@show h(5, 2)\n",
    "@show i(5, 2)\n",
    "\n",
    "# Type promotion!\n",
    "@show i(5, 2.0)"
   ]
  },
  {
   "cell_type": "code",
   "execution_count": null,
   "metadata": {
    "collapsed": false
   },
   "outputs": [],
   "source": [
    "# Parametric types\n",
    "j{T}(x::T, y::T) = x * y\n",
    "\n",
    "# Yep! They're the same type\n",
    "@show j(5, 5)\n",
    "\n",
    "# Nope. Different Types.\n",
    "j(5.0, 5)"
   ]
  },
  {
   "cell_type": "code",
   "execution_count": null,
   "metadata": {
    "collapsed": false
   },
   "outputs": [],
   "source": []
  }
 ],
 "metadata": {
  "anaconda-cloud": {},
  "kernelspec": {
   "display_name": "Julia 0.5.0",
   "language": "julia",
   "name": "julia-0.5"
  },
  "language_info": {
   "file_extension": ".jl",
   "mimetype": "application/julia",
   "name": "julia",
   "version": "0.5.0"
  }
 },
 "nbformat": 4,
 "nbformat_minor": 0
}
