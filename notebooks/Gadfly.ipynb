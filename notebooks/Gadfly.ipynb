{
 "metadata": {
  "language": "Julia",
  "name": "",
  "signature": "sha256:68fc8ed1dc0b1d0c6e1345c40e99b7daf013200ee037826b7b39110ea7a75972"
 },
 "nbformat": 3,
 "nbformat_minor": 0,
 "worksheets": [
  {
   "cells": [
    {
     "cell_type": "code",
     "collapsed": false,
     "input": [
      "using Gadfly\n",
      "plot(cos, 0, 12.5)"
     ],
     "language": "python",
     "metadata": {},
     "outputs": []
    },
    {
     "cell_type": "code",
     "collapsed": false,
     "input": [
      "using Gadfly\n",
      "using RDatasets\n",
      "plot(dataset(\"datasets\", \"iris\"),x=\"SepalLength\", y=\"SepalWidth\", Geom.point)"
     ],
     "language": "python",
     "metadata": {},
     "outputs": []
    },
    {
     "cell_type": "code",
     "collapsed": false,
     "input": [
      "using Gadfly\n",
      "using RDatasets\n",
      "plot(dataset(\"car\", \"SLID\"), x=\"Wages\", color=\"Language\", Geom.histogram)"
     ],
     "language": "python",
     "metadata": {},
     "outputs": []
    }
   ],
   "metadata": {}
  }
 ]
}