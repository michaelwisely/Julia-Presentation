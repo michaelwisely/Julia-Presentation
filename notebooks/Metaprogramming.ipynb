{
 "cells": [
  {
   "cell_type": "code",
   "execution_count": null,
   "metadata": {
    "collapsed": false
   },
   "outputs": [],
   "source": [
    "# Parse a string of code\n",
    "e1 = parse(\"1 + 1\")\n",
    "\n",
    "# Use expression syntax\n",
    "e2 = :(2 + 3)\n",
    "\n",
    "# Use a quote\n",
    "e3 = quote\n",
    "    x = 1\n",
    "    y = 2\n",
    "    x + y\n",
    "end\n",
    "\n",
    "@show e1\n",
    "@show e2\n",
    "@show e3\n",
    "\n",
    "@show eval(e1)\n",
    "@show eval(e2)\n",
    "@show eval(e3)"
   ]
  },
  {
   "cell_type": "code",
   "execution_count": null,
   "metadata": {
    "collapsed": false
   },
   "outputs": [],
   "source": []
  }
 ],
 "metadata": {
  "anaconda-cloud": {},
  "kernelspec": {
   "display_name": "Julia 0.5.0",
   "language": "julia",
   "name": "julia-0.5"
  },
  "language_info": {
   "file_extension": ".jl",
   "mimetype": "application/julia",
   "name": "julia",
   "version": "0.5.0"
  }
 },
 "nbformat": 4,
 "nbformat_minor": 0
}
