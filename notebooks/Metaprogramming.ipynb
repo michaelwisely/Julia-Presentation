{
 "metadata": {
  "language": "Julia",
  "name": "",
  "signature": "sha256:f583b1d6a70aa256f567b0611769fba538d93255a727772a85c61a982cc2bdd0"
 },
 "nbformat": 3,
 "nbformat_minor": 0,
 "worksheets": [
  {
   "cells": [
    {
     "cell_type": "code",
     "collapsed": false,
     "input": [
      "# Parse a string of code\n",
      "e1 = parse(\"1 + 1\")\n",
      "\n",
      "# Use expression syntax\n",
      "e2 = :(2 + 3)\n",
      "\n",
      "# Use a quote\n",
      "e3 = quote\n",
      "    x = 1\n",
      "    y = 2\n",
      "    x + y\n",
      "end\n",
      "\n",
      "println(e1)\n",
      "println(e2)\n",
      "println(e3)\n",
      "\n",
      "println(eval(e1))\n",
      "println(eval(e2))\n",
      "println(eval(e3))"
     ],
     "language": "python",
     "metadata": {},
     "outputs": []
    }
   ],
   "metadata": {}
  }
 ]
}