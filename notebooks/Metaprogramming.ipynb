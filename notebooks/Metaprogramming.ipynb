{
 "metadata": {
  "language": "Julia",
  "name": "",
  "signature": "sha256:72979a7b25e1f80f8a5f7070f3d5c0ff322a170f89ab9fd3419d3b5ead469913"
 },
 "nbformat": 3,
 "nbformat_minor": 0,
 "worksheets": [
  {
   "cells": [
    {
     "cell_type": "code",
     "collapsed": false,
     "input": [
      "# Parse a string of code\n",
      "e1 = parse(\"1 + 1\")\n",
      "\n",
      "# Use expression syntax\n",
      "e2 = :(2 + 3)\n",
      "\n",
      "# Use a quote\n",
      "e3 = quote\n",
      "    x = 1\n",
      "    y = 2\n",
      "    x + y\n",
      "end\n",
      "\n",
      "@show e1\n",
      "@show e2\n",
      "@show e3\n",
      "\n",
      "@show eval(e1)\n",
      "@show eval(e2)\n",
      "@show eval(e3)"
     ],
     "language": "python",
     "metadata": {},
     "outputs": []
    },
    {
     "cell_type": "code",
     "collapsed": false,
     "input": [],
     "language": "python",
     "metadata": {},
     "outputs": []
    }
   ],
   "metadata": {}
  }
 ]
}