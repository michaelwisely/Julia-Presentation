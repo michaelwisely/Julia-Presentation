{
 "metadata": {
  "language": "Julia",
  "name": "",
  "signature": "sha256:64cf8dc8a857e727b248e07b924316811fa72d36a81480702d8a2be6120fc87d"
 },
 "nbformat": 3,
 "nbformat_minor": 0,
 "worksheets": [
  {
   "cells": [
    {
     "cell_type": "code",
     "collapsed": false,
     "input": [
      "# Multiple Dispatch\n",
      "function f(x::Int)\n",
      "    x * 3\n",
      "end\n",
      "\n",
      "function f(x::FloatingPoint)\n",
      "    x * 2\n",
      "end"
     ],
     "language": "python",
     "metadata": {},
     "outputs": []
    },
    {
     "cell_type": "code",
     "collapsed": false,
     "input": [
      "@show f(3)"
     ],
     "language": "python",
     "metadata": {},
     "outputs": []
    },
    {
     "cell_type": "code",
     "collapsed": false,
     "input": [
      "@show f(3.0)"
     ],
     "language": "python",
     "metadata": {},
     "outputs": []
    }
   ],
   "metadata": {}
  }
 ]
}