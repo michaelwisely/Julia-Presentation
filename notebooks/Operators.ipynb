{
 "metadata": {
  "language": "Julia",
  "name": "",
  "signature": "sha256:d03753f3d239117d87d7536fc294e5d2ceee21734a5cebfe78f6217192c9260d"
 },
 "nbformat": 3,
 "nbformat_minor": 0,
 "worksheets": [
  {
   "cells": [
    {
     "cell_type": "code",
     "collapsed": false,
     "input": [
      "# Declare a new type\n",
      "type MyComplex\n",
      "    real::Float64\n",
      "    imag::Float64\n",
      "end\n",
      "\n",
      "# Write some functions for it\n",
      "function +(a::MyComplex, b::MyComplex)\n",
      "  MyComplex(a.real + b.real, a.imag + b.imag)\n",
      "end\n",
      "\n",
      "# Make a couple instances\n",
      "x = MyComplex(1, 2)\n",
      "y = MyComplex(4, 5)\n",
      "\n",
      "println(x + y)\n",
      "\n",
      "println(+(x, y))"
     ],
     "language": "python",
     "metadata": {},
     "outputs": [
      {
       "output_type": "stream",
       "stream": "stdout",
       "text": [
        "MyComplex("
       ]
      },
      {
       "output_type": "stream",
       "stream": "stdout",
       "text": [
        "5"
       ]
      },
      {
       "output_type": "stream",
       "stream": "stdout",
       "text": [
        ".0,7.0)\n",
        "MyComplex(5.0,7.0)\n"
       ]
      }
     ],
     "prompt_number": 1
    },
    {
     "cell_type": "code",
     "collapsed": false,
     "input": [],
     "language": "python",
     "metadata": {},
     "outputs": []
    }
   ],
   "metadata": {}
  }
 ]
}