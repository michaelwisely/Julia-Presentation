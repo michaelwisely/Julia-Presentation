{
 "metadata": {
  "language": "Julia",
  "name": "",
  "signature": "sha256:32f3f5f36b0b2d579228920310078dbf698f4ae56b9b856f55133caacb283160"
 },
 "nbformat": 3,
 "nbformat_minor": 0,
 "worksheets": [
  {
   "cells": [
    {
     "cell_type": "code",
     "collapsed": false,
     "input": [
      "# Declare a new type\n",
      "type MyComplex\n",
      "    real::Float64\n",
      "    imag::Float64\n",
      "end\n",
      "\n",
      "# Write some functions for it\n",
      "function +(a::MyComplex, b::MyComplex)\n",
      "  MyComplex(a.real + b.real, a.imag + b.imag)\n",
      "end\n",
      "\n",
      "# Make a couple instances\n",
      "x = MyComplex(1, 2)\n",
      "y = MyComplex(4, 5)\n",
      "\n",
      "@show x + y\n",
      "\n",
      "@show +(x, y)"
     ],
     "language": "python",
     "metadata": {},
     "outputs": []
    },
    {
     "cell_type": "code",
     "collapsed": false,
     "input": [],
     "language": "python",
     "metadata": {},
     "outputs": []
    }
   ],
   "metadata": {}
  }
 ]
}