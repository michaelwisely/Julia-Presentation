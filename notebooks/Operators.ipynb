{
 "metadata": {
  "language": "Julia",
  "name": "",
  "signature": "sha256:ad5a944cca885b6c0c93af093363d2bd0f3c97171f49654cf50683e406238557"
 },
 "nbformat": 3,
 "nbformat_minor": 0,
 "worksheets": [
  {
   "cells": [
    {
     "cell_type": "code",
     "collapsed": false,
     "input": [
      "type MyComplex\n",
      "    real::Float64\n",
      "    imag::Float64\n",
      "end\n",
      "\n",
      "function +(a::MyComplex, b::MyComplex)\n",
      "  MyComplex(a.real + b.real, a.imag + b.imag)\n",
      "end\n",
      "\n",
      "x = MyComplex(1, 2)\n",
      "y = MyComplex(4, 5)"
     ],
     "language": "python",
     "metadata": {},
     "outputs": [
      {
       "metadata": {},
       "output_type": "pyout",
       "prompt_number": 2,
       "text": [
        "MyComplex(5.0,7.0)"
       ]
      }
     ],
     "prompt_number": 2
    },
    {
     "cell_type": "code",
     "collapsed": false,
     "input": [
      "x + y"
     ],
     "language": "python",
     "metadata": {},
     "outputs": [
      {
       "metadata": {},
       "output_type": "pyout",
       "prompt_number": 3,
       "text": [
        "MyComplex(5.0,7.0)"
       ]
      }
     ],
     "prompt_number": 3
    },
    {
     "cell_type": "code",
     "collapsed": false,
     "input": [
      "+(x, y)"
     ],
     "language": "python",
     "metadata": {},
     "outputs": [
      {
       "metadata": {},
       "output_type": "pyout",
       "prompt_number": 4,
       "text": [
        "MyComplex(5.0,7.0)"
       ]
      }
     ],
     "prompt_number": 4
    },
    {
     "cell_type": "code",
     "collapsed": false,
     "input": [],
     "language": "python",
     "metadata": {},
     "outputs": []
    }
   ],
   "metadata": {}
  }
 ]
}