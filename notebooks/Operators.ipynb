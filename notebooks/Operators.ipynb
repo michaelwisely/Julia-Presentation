{
 "cells": [
  {
   "cell_type": "code",
   "execution_count": null,
   "metadata": {
    "collapsed": false
   },
   "outputs": [],
   "source": [
    "import Base.+\n",
    "\n",
    "# Declare a new type\n",
    "type MyComplex\n",
    "    real::Float64\n",
    "    imag::Float64\n",
    "end\n",
    "\n",
    "# Write some functions for it\n",
    "function +(a::MyComplex, b::MyComplex)\n",
    "  MyComplex(a.real + b.real, a.imag + b.imag)\n",
    "end\n",
    "\n",
    "# Make a couple instances\n",
    "x = MyComplex(1, 2)\n",
    "y = MyComplex(4, 5)\n",
    "\n",
    "@show x + y\n",
    "\n",
    "@show +(x, y)"
   ]
  },
  {
   "cell_type": "code",
   "execution_count": null,
   "metadata": {
    "collapsed": true
   },
   "outputs": [],
   "source": []
  }
 ],
 "metadata": {
  "anaconda-cloud": {},
  "kernelspec": {
   "display_name": "Julia 0.5.0",
   "language": "julia",
   "name": "julia-0.5"
  },
  "language_info": {
   "file_extension": ".jl",
   "mimetype": "application/julia",
   "name": "julia",
   "version": "0.5.0"
  }
 },
 "nbformat": 4,
 "nbformat_minor": 0
}
