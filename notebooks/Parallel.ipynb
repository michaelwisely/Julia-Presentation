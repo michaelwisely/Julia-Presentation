{
 "metadata": {
  "language": "Julia",
  "name": "",
  "signature": "sha256:5f39c7421e1688c548e949f3e82546ef1da90738763cf9313cdad9423fd4b577"
 },
 "nbformat": 3,
 "nbformat_minor": 0,
 "worksheets": [
  {
   "cells": [
    {
     "cell_type": "code",
     "collapsed": false,
     "input": [
      "# Go make me a random matrix\n",
      "r = @spawn rand(2,2)\n",
      "\n",
      "# Now let's use the handle to wait until we get a result\n",
      "fetch(r)"
     ],
     "language": "python",
     "metadata": {},
     "outputs": []
    },
    {
     "cell_type": "code",
     "collapsed": false,
     "input": [
      "# What do you think this does?\n",
      "nheads = @parallel (+) for i=1:200000000\n",
      "  int(randbool())\n",
      "end"
     ],
     "language": "python",
     "metadata": {},
     "outputs": []
    },
    {
     "cell_type": "code",
     "collapsed": false,
     "input": [],
     "language": "python",
     "metadata": {},
     "outputs": []
    }
   ],
   "metadata": {}
  }
 ]
}