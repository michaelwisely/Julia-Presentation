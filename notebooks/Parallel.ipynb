{
 "metadata": {
  "language": "Julia",
  "name": "",
  "signature": "sha256:b7a647f0970e6c8f3455f4905ba75427cea6b5e812ab47a0c1b3998c734e19e0"
 },
 "nbformat": 3,
 "nbformat_minor": 0,
 "worksheets": [
  {
   "cells": [
    {
     "cell_type": "code",
     "collapsed": false,
     "input": [
      "# Go make me a random matrix\n",
      "r = @spawn rand(2,2)\n",
      "\n",
      "# Now let's use the handle to wait until we get a result\n",
      "@show fetch(r)"
     ],
     "language": "python",
     "metadata": {},
     "outputs": []
    },
    {
     "cell_type": "code",
     "collapsed": false,
     "input": [
      "# What do you think this does?\n",
      "nheads = @parallel (+) for i=1:200000000\n",
      "  int(randbool())\n",
      "end\n",
      "\n",
      "@show nheads"
     ],
     "language": "python",
     "metadata": {},
     "outputs": []
    },
    {
     "cell_type": "code",
     "collapsed": false,
     "input": [],
     "language": "python",
     "metadata": {},
     "outputs": []
    }
   ],
   "metadata": {}
  }
 ]
}