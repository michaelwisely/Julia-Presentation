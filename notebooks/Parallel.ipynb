{
 "cells": [
  {
   "cell_type": "code",
   "execution_count": null,
   "metadata": {
    "collapsed": false
   },
   "outputs": [],
   "source": [
    "# Go make me a random matrix\n",
    "r = @spawn rand(2,2)\n",
    "\n",
    "# Now let's use the handle to wait until we get a result\n",
    "@show fetch(r)"
   ]
  },
  {
   "cell_type": "code",
   "execution_count": null,
   "metadata": {
    "collapsed": false
   },
   "outputs": [],
   "source": [
    "# Add up 20,000,000,000 random 0's and 1's in parallel\n",
    "# (should be roughly 10,000,000,000)\n",
    "@time nheads = @parallel (+) for i=1:20000000000\n",
    "    Int(rand(Bool))\n",
    "end\n",
    "\n",
    "@show nheads"
   ]
  },
  {
   "cell_type": "code",
   "execution_count": null,
   "metadata": {
    "collapsed": false
   },
   "outputs": [],
   "source": [
    "# That's pretty cool... but it's only using a single worker. Hardly parallel.\n",
    "# Let's give Julia 4 workers and see how fast we can compute the answer.\n",
    "\n",
    "addprocs(4)\n",
    "\n",
    "@time nheads = @parallel (+) for i=1:20000000000\n",
    "    Int(rand(Bool))\n",
    "end\n",
    "\n",
    "@show nheads"
   ]
  },
  {
   "cell_type": "code",
   "execution_count": null,
   "metadata": {
    "collapsed": false
   },
   "outputs": [],
   "source": []
  }
 ],
 "metadata": {
  "anaconda-cloud": {},
  "kernelspec": {
   "display_name": "Julia 0.6.1",
   "language": "julia",
   "name": "julia-0.6"
  },
  "language_info": {
   "file_extension": ".jl",
   "mimetype": "application/julia",
   "name": "julia",
   "version": "0.6.1"
  }
 },
 "nbformat": 4,
 "nbformat_minor": 0
}
