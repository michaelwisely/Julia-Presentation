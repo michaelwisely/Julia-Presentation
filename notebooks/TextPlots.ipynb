{
 "metadata": {
  "language": "Julia",
  "name": "",
  "signature": "sha256:e1566cf437f51b5aa461453f6c6b52fa1468c9ed63d19c0f6859a8d522ffb406"
 },
 "nbformat": 3,
 "nbformat_minor": 0,
 "worksheets": [
  {
   "cells": [
    {
     "cell_type": "code",
     "collapsed": false,
     "input": [
      "using TextPlots\n",
      "\n",
      "plot(cos, 0:5)"
     ],
     "language": "python",
     "metadata": {},
     "outputs": []
    }
   ],
   "metadata": {}
  }
 ]
}