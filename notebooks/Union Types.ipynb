{
 "metadata": {
  "language": "Julia",
  "name": "",
  "signature": "sha256:929e73bf3b5e26be80778b6a88b0277fee4e254e7662dda0b04ac5aa427a4644"
 },
 "nbformat": 3,
 "nbformat_minor": 0,
 "worksheets": [
  {
   "cells": [
    {
     "cell_type": "code",
     "collapsed": false,
     "input": [
      "# Make a new type\n",
      "StringOrInteger = Union(String, Integer)                                                                                                                                      \n",
      "\n",
      "function f(x::StringOrInteger, y::StringOrInteger) \n",
      "    return x * y\n",
      "end\n",
      "\n",
      "# Need to define `*` for Strings and Integers\n",
      "*(x::String, y::Integer) = repeat(x, y)\n",
      "*(x::Integer, y::String) = y * x\n",
      "\n",
      "@show f(\"Hello\", \"World\")\n",
      "@show f(3, \"World\")\n",
      "@show f(\"Hello\", 3)\n",
      "@show f(3, 3)"
     ],
     "language": "python",
     "metadata": {},
     "outputs": []
    },
    {
     "cell_type": "code",
     "collapsed": false,
     "input": [],
     "language": "python",
     "metadata": {},
     "outputs": []
    }
   ],
   "metadata": {}
  }
 ]
}