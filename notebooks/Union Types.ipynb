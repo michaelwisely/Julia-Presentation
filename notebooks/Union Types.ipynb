{
 "metadata": {
  "language": "Julia",
  "name": "",
  "signature": "sha256:d0481226fb7ef98e4494536f451000dd7b95c6956e50e6c6c140a79750c008f8"
 },
 "nbformat": 3,
 "nbformat_minor": 0,
 "worksheets": [
  {
   "cells": [
    {
     "cell_type": "code",
     "collapsed": false,
     "input": [
      "# Make a new type\n",
      "StringOrInteger = Union(String, Integer)                                                                                                                                      \n",
      "\n",
      "function f(x::StringOrInteger, y::StringOrInteger) \n",
      "    return x * y\n",
      "end\n",
      "\n",
      "# Need to define `*` for Strings and Integers\n",
      "*(x::String, y::Integer) = repeat(x, y)\n",
      "*(x::Integer, y::String) = y * x\n",
      "\n",
      "println(f(\"Hello\", \"World\"))\n",
      "println(f(3, \"World\"))\n",
      "println(f(\"Hello\", 3))\n",
      "println(f(3, 3))"
     ],
     "language": "python",
     "metadata": {},
     "outputs": []
    }
   ],
   "metadata": {}
  }
 ]
}