{
 "metadata": {
  "language": "Julia",
  "name": "",
  "signature": "sha256:80e45674605d32fce72536871441c0840532f09f9834b6746a8f54013833c990"
 },
 "nbformat": 3,
 "nbformat_minor": 0,
 "worksheets": [
  {
   "cells": [
    {
     "cell_type": "code",
     "collapsed": false,
     "input": [
      "# Make a new type\n",
      "StringOrInteger = Union(String, Integer)                                                                                                                                      \n",
      "\n",
      "function f(x::StringOrInteger, y::StringOrInteger) \n",
      "    return x * y\n",
      "end\n",
      "\n",
      "# Need to define `*` for Strings and Integers\n",
      "*(x::String, y::Integer) = repeat(x, y)\n",
      "*(x::Integer, y::String) = y * x\n",
      "\n",
      "println(f(\"Hello\", \"World\"))\n",
      "println(f(3, \"World\"))\n",
      "println(f(\"Hello\", 3))\n",
      "println(f(3, 3))"
     ],
     "language": "python",
     "metadata": {},
     "outputs": [
      {
       "output_type": "stream",
       "stream": "stdout",
       "text": [
        "HelloWorld\n"
       ]
      },
      {
       "output_type": "stream",
       "stream": "stdout",
       "text": [
        "WorldWorldWorld\n",
        "HelloHelloHello\n",
        "9\n"
       ]
      }
     ],
     "prompt_number": 2
    }
   ],
   "metadata": {}
  }
 ]
}