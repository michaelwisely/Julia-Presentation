{
 "cells": [
  {
   "cell_type": "code",
   "execution_count": null,
   "metadata": {
    "collapsed": false
   },
   "outputs": [],
   "source": [
    "import Base.*\n",
    "\n",
    "# Make a new type\n",
    "StringOrInteger = Union{AbstractString, Integer}                                                                                                                                      \n",
    "\n",
    "function f(x::StringOrInteger, y::StringOrInteger) \n",
    "    return x * y\n",
    "end\n",
    "\n",
    "# Need to define `*` for Strings and Integers\n",
    "*(x::AbstractString, y::Integer) = repeat(x, y)\n",
    "*(x::Integer, y::AbstractString) = y * x\n",
    "\n",
    "@show f(\"Hello\", \"World\")\n",
    "@show f(3, \"World\")\n",
    "@show f(\"Hello\", 3)\n",
    "@show f(3, 3)"
   ]
  },
  {
   "cell_type": "code",
   "execution_count": null,
   "metadata": {
    "collapsed": false
   },
   "outputs": [],
   "source": []
  }
 ],
 "metadata": {
  "anaconda-cloud": {},
  "kernelspec": {
   "display_name": "Julia 0.6.1",
   "language": "julia",
   "name": "julia-0.6"
  },
  "language_info": {
   "file_extension": ".jl",
   "mimetype": "application/julia",
   "name": "julia",
   "version": "0.6.1"
  }
 },
 "nbformat": 4,
 "nbformat_minor": 0
}
