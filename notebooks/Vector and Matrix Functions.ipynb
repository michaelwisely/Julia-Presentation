{
 "metadata": {
  "language": "Julia",
  "name": "",
  "signature": "sha256:2d0daeebd18defb40bdc66e03e4f15959ff3fd4885a1533173bd9b5704398587"
 },
 "nbformat": 3,
 "nbformat_minor": 0,
 "worksheets": [
  {
   "cells": [
    {
     "cell_type": "code",
     "collapsed": false,
     "input": [
      "# Column Vectors\n",
      "c = vcat(1, 2, 3)"
     ],
     "language": "python",
     "metadata": {},
     "outputs": []
    },
    {
     "cell_type": "code",
     "collapsed": false,
     "input": [
      "# Row Vector\n",
      "r = hcat(8, 9, 10)"
     ],
     "language": "python",
     "metadata": {},
     "outputs": []
    },
    {
     "cell_type": "code",
     "collapsed": false,
     "input": [
      "# A 3x3 Matrix hvcat(rows::(Int...), values...)\n",
      "m = hvcat((3,3,3), 1, 2, 3, 4, 5, 6, 7, 8, 9)"
     ],
     "language": "python",
     "metadata": {},
     "outputs": []
    },
    {
     "cell_type": "code",
     "collapsed": false,
     "input": [],
     "language": "python",
     "metadata": {},
     "outputs": []
    }
   ],
   "metadata": {}
  }
 ]
}