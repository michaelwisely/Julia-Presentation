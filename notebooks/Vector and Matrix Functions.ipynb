{
 "metadata": {
  "language": "Julia",
  "name": "",
  "signature": "sha256:1db27346629a88454ae5eedba5f94ae690ba2ee7c5f3d1804c8ecdcf6bf3ca6d"
 },
 "nbformat": 3,
 "nbformat_minor": 0,
 "worksheets": [
  {
   "cells": [
    {
     "cell_type": "code",
     "collapsed": false,
     "input": [
      "# Column Vectors\n",
      "c = vcat(1, 2, 3)"
     ],
     "language": "python",
     "metadata": {},
     "outputs": []
    },
    {
     "cell_type": "code",
     "collapsed": false,
     "input": [
      "# Row Vector\n",
      "r = hcat(8, 9, 10)"
     ],
     "language": "python",
     "metadata": {},
     "outputs": []
    },
    {
     "cell_type": "code",
     "collapsed": false,
     "input": [
      "# A 3x3 Matrix hvcat(rows::(Int...), values...)\n",
      "m = hvcat((3,3,3), 1, 2, 3, 4, 5, 6, 7, 8, 9)"
     ],
     "language": "python",
     "metadata": {},
     "outputs": []
    },
    {
     "cell_type": "code",
     "collapsed": false,
     "input": [
      "# Get the bottom, center element\n",
      "ref(m, 3, 2)"
     ],
     "language": "python",
     "metadata": {},
     "outputs": []
    },
    {
     "cell_type": "code",
     "collapsed": false,
     "input": [],
     "language": "python",
     "metadata": {},
     "outputs": []
    }
   ],
   "metadata": {}
  }
 ]
}