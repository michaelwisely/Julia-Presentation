{
 "metadata": {
  "language": "Julia",
  "name": "",
  "signature": "sha256:e11103080381a350d21f57a0e6dea0b32105960f91407a30e49ef80a1df8a14b"
 },
 "nbformat": 3,
 "nbformat_minor": 0,
 "worksheets": [
  {
   "cells": [
    {
     "cell_type": "code",
     "collapsed": false,
     "input": [
      "# Column Vectors\n",
      "c = vcat(1, 2, 3)"
     ],
     "language": "python",
     "metadata": {},
     "outputs": []
    },
    {
     "cell_type": "code",
     "collapsed": false,
     "input": [
      "# Row Vector\n",
      "r = hcat(8, 9, 10)"
     ],
     "language": "python",
     "metadata": {},
     "outputs": []
    },
    {
     "cell_type": "code",
     "collapsed": false,
     "input": [
      "# A 3x3 Matrix hvcat(rows::(Int...), values...)\n",
      "m = hvcat((3,3,3), 1, 2, 3, 4, 5, 6, 7, 8, 9)"
     ],
     "language": "python",
     "metadata": {},
     "outputs": []
    },
    {
     "cell_type": "code",
     "collapsed": false,
     "input": [
      "# Get the bottom, center element\n",
      "ref(m, 3, 2)"
     ],
     "language": "python",
     "metadata": {},
     "outputs": []
    },
    {
     "cell_type": "code",
     "collapsed": false,
     "input": [],
     "language": "python",
     "metadata": {},
     "outputs": []
    }
   ],
   "metadata": {}
  }
 ]
}