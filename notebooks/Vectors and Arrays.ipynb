{
 "metadata": {
  "language": "Julia",
  "name": "",
  "signature": "sha256:802ef8b92581ac1ad3245f7f8ad2f3d67f9e4123067c3ea5800fdc237e20a6ed"
 },
 "nbformat": 3,
 "nbformat_minor": 0,
 "worksheets": [
  {
   "cells": [
    {
     "cell_type": "code",
     "collapsed": false,
     "input": [
      "# Column Vectors\n",
      "c = [1, 2, 3]"
     ],
     "language": "python",
     "metadata": {},
     "outputs": []
    },
    {
     "cell_type": "code",
     "collapsed": false,
     "input": [
      "# Row Vector\n",
      "r = [8 9 10]"
     ],
     "language": "python",
     "metadata": {},
     "outputs": []
    },
    {
     "cell_type": "code",
     "collapsed": false,
     "input": [
      "# A 3x3 Matrix\n",
      "m = [1 2 3; 4 5 6; 7 8 9]"
     ],
     "language": "python",
     "metadata": {},
     "outputs": []
    },
    {
     "cell_type": "code",
     "collapsed": false,
     "input": [
      "# Get the bottom, center element\n",
      "m[3, 2]"
     ],
     "language": "python",
     "metadata": {},
     "outputs": []
    },
    {
     "cell_type": "code",
     "collapsed": false,
     "input": [
      "# Square a matrix\n",
      "m * m"
     ],
     "language": "python",
     "metadata": {},
     "outputs": []
    },
    {
     "cell_type": "code",
     "collapsed": false,
     "input": [
      "# Multiply a Vector by a Matrix\n",
      "r * m"
     ],
     "language": "python",
     "metadata": {},
     "outputs": []
    },
    {
     "cell_type": "code",
     "collapsed": false,
     "input": [
      "# Gotta check your dimensions!\n",
      "c * m"
     ],
     "language": "python",
     "metadata": {},
     "outputs": []
    },
    {
     "cell_type": "code",
     "collapsed": false,
     "input": [
      "# 3 Dimensional Array\n",
      "n = Array(Int64, 3, 3, 3)\n",
      "fill!(n, 0)\n",
      "n"
     ],
     "language": "python",
     "metadata": {},
     "outputs": [
      {
       "metadata": {},
       "output_type": "pyout",
       "prompt_number": 32,
       "text": [
        "3x3x3 Array{Int64,3}:\n",
        "[:, :, 1] =\n",
        " 0  0  0\n",
        " 0  0  0\n",
        " 0  0  0\n",
        "\n",
        "[:, :, 2] =\n",
        " 0  0  0\n",
        " 0  0  0\n",
        " 0  0  0\n",
        "\n",
        "[:, :, 3] =\n",
        " 0  0  0\n",
        " 0  0  0\n",
        " 0  0  0"
       ]
      }
     ],
     "prompt_number": 32
    }
   ],
   "metadata": {}
  }
 ]
}